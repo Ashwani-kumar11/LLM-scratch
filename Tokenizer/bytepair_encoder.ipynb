{
 "cells": [
  {
   "cell_type": "markdown",
   "id": "c72a941c",
   "metadata": {},
   "source": [
    "**Byte pair encoding (BPE)**"
   ]
  },
  {
   "cell_type": "markdown",
   "id": "e06d30cf",
   "metadata": {},
   "source": [
    "It is the more sophisticated tokenization scheme based on the concept of Byte pair encoding"
   ]
  },
  {
   "cell_type": "markdown",
   "id": "3c2b4d09",
   "metadata": {
    "vscode": {
     "languageId": "plaintext"
    }
   },
   "source": [
    "Tokenization algorithms\n",
    "\n",
    "1. Word Based : Each word is the token (Out of Vocabulary Problem)\n",
    "2. Character Based : Each character as token (Meaning is lost) (Small vocabulary size 256 for english characters)\n",
    "3. Sub-word based : break one bigger word into subword "
   ]
  },
  {
   "cell_type": "markdown",
   "id": "264b075b",
   "metadata": {},
   "source": [
    "*Sub-word Based Tokenization*\n",
    "Rule 1: Do not split frequently used word intio smaller subwords\n",
    "Rule 2: Split the rare words into smaller, meaningful subwords\n",
    "\n",
    "eg: \"boy\" should not be split\n",
    "    \"boys\" should be split into \"boy\" and \"s\""
   ]
  },
  {
   "cell_type": "markdown",
   "id": "f9437665",
   "metadata": {},
   "source": [
    "**Algorithm**\n",
    "\n",
    "Original data : *aaabdaaabac*\n",
    "\n",
    "1. The byte pair \"aa\" occurs the most. we will replace it with Z as Z does not occur in the data.\n",
    "\n",
    "2. Compressed data *ZabdZabac*\n",
    "\n",
    "3. The next common byte pair is \"ab\" we will replace it by Y as Y does not occur in the data\n",
    "\n",
    "4. now data is **ZYdZYac"
   ]
  },
  {
   "cell_type": "markdown",
   "id": "4b64fa9c",
   "metadata": {},
   "source": [
    "Using the built-in library for BPE"
   ]
  },
  {
   "cell_type": "code",
   "execution_count": 2,
   "id": "ca1175ff",
   "metadata": {},
   "outputs": [
    {
     "name": "stdout",
     "output_type": "stream",
     "text": [
      "Requirement already satisfied: tiktoken in c:\\users\\anshk\\appdata\\local\\programs\\python\\python312\\lib\\site-packages (0.9.0)\n",
      "Requirement already satisfied: regex>=2022.1.18 in c:\\users\\anshk\\appdata\\local\\programs\\python\\python312\\lib\\site-packages (from tiktoken) (2024.11.6)\n",
      "Requirement already satisfied: requests>=2.26.0 in c:\\users\\anshk\\appdata\\local\\programs\\python\\python312\\lib\\site-packages (from tiktoken) (2.32.3)\n",
      "Requirement already satisfied: charset-normalizer<4,>=2 in c:\\users\\anshk\\appdata\\local\\programs\\python\\python312\\lib\\site-packages (from requests>=2.26.0->tiktoken) (3.4.0)\n",
      "Requirement already satisfied: idna<4,>=2.5 in c:\\users\\anshk\\appdata\\local\\programs\\python\\python312\\lib\\site-packages (from requests>=2.26.0->tiktoken) (3.10)\n",
      "Requirement already satisfied: urllib3<3,>=1.21.1 in c:\\users\\anshk\\appdata\\local\\programs\\python\\python312\\lib\\site-packages (from requests>=2.26.0->tiktoken) (2.2.3)\n",
      "Requirement already satisfied: certifi>=2017.4.17 in c:\\users\\anshk\\appdata\\local\\programs\\python\\python312\\lib\\site-packages (from requests>=2.26.0->tiktoken) (2024.12.14)\n"
     ]
    },
    {
     "name": "stderr",
     "output_type": "stream",
     "text": [
      "\n",
      "[notice] A new release of pip is available: 25.0.1 -> 25.1.1\n",
      "[notice] To update, run: python.exe -m pip install --upgrade pip\n"
     ]
    }
   ],
   "source": [
    "!pip install tiktoken"
   ]
  },
  {
   "cell_type": "code",
   "execution_count": 3,
   "id": "aa357cad",
   "metadata": {},
   "outputs": [
    {
     "name": "stdout",
     "output_type": "stream",
     "text": [
      "0.9.0\n"
     ]
    }
   ],
   "source": [
    "import importlib\n",
    "import tiktoken\n",
    "\n",
    "print(tiktoken.__version__)"
   ]
  },
  {
   "cell_type": "markdown",
   "id": "8f2df8cc",
   "metadata": {},
   "source": [
    "Once installed, we can instantiate the BPE tokenizer from tiktoken as:"
   ]
  },
  {
   "cell_type": "code",
   "execution_count": 4,
   "id": "c427dcb6",
   "metadata": {},
   "outputs": [],
   "source": [
    "tokenizer = tiktoken.get_encoding(\"gpt2\")"
   ]
  },
  {
   "cell_type": "code",
   "execution_count": 9,
   "id": "fc58a80c",
   "metadata": {},
   "outputs": [
    {
     "name": "stdout",
     "output_type": "stream",
     "text": [
      "Encoded integers: [15496, 11, 995, 0, 220, 50256, 770, 318, 257, 1332, 4731, 284, 954, 83, 482, 641, 13]\n"
     ]
    }
   ],
   "source": [
    "text = \"Hello, world! <|endoftext|> This is a test string to counttokens.\"\n",
    "\n",
    "integers = tokenizer.encode(text, allowed_special=\"all\")\n",
    "\n",
    "print(\"Encoded integers:\", integers)"
   ]
  },
  {
   "cell_type": "code",
   "execution_count": 10,
   "id": "ef8208aa",
   "metadata": {},
   "outputs": [
    {
     "name": "stdout",
     "output_type": "stream",
     "text": [
      "Decoded text: Hello, world! <|endoftext|> This is a test string to counttokens.\n"
     ]
    }
   ],
   "source": [
    "result = tokenizer.decode(integers)\n",
    "print(\"Decoded text:\", result)"
   ]
  },
  {
   "cell_type": "code",
   "execution_count": 13,
   "id": "a581ff5b",
   "metadata": {},
   "outputs": [
    {
     "name": "stdout",
     "output_type": "stream",
     "text": [
      "Encoded integers: [18429, 23820, 257, 8457, 73, 1082, 220, 959]\n",
      "Decoded text: AHIr ajsjder ier\n"
     ]
    }
   ],
   "source": [
    "integer = tokenizer.encode(\"AHIr ajsjder ier\")\n",
    "\n",
    "print(\"Encoded integers:\", integer)\n",
    "\n",
    "STrings = tokenizer.decode(integer)\n",
    "print(\"Decoded text:\", STrings)"
   ]
  }
 ],
 "metadata": {
  "kernelspec": {
   "display_name": "Python 3",
   "language": "python",
   "name": "python3"
  },
  "language_info": {
   "codemirror_mode": {
    "name": "ipython",
    "version": 3
   },
   "file_extension": ".py",
   "mimetype": "text/x-python",
   "name": "python",
   "nbconvert_exporter": "python",
   "pygments_lexer": "ipython3",
   "version": "3.12.8"
  }
 },
 "nbformat": 4,
 "nbformat_minor": 5
}
