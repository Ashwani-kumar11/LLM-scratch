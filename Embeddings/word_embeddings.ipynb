{
 "cells": [
  {
   "cell_type": "markdown",
   "id": "8459aa79",
   "metadata": {},
   "source": [
    "Input text -----> Tokenzised text -----> Token Ids ------> Token Embeddings ---> GPT training"
   ]
  },
  {
   "cell_type": "markdown",
   "id": "5a466542",
   "metadata": {},
   "source": []
  }
 ],
 "metadata": {
  "language_info": {
   "name": "python"
  }
 },
 "nbformat": 4,
 "nbformat_minor": 5
}
